{
 "cells": [
  {
   "cell_type": "code",
   "execution_count": null,
   "id": "01a862db",
   "metadata": {},
   "outputs": [],
   "source": [
    "import mlflow\n",
    "from transformers import AutoModelForCausalLM, AutoTokenizer"
   ]
  },
  {
   "cell_type": "code",
   "execution_count": null,
   "id": "4e9262ee",
   "metadata": {},
   "outputs": [],
   "source": [
    "# Path to the fine-tuned model checkpoint (use best checkpoint path as shown in the fine-tuning output)\n",
    "checkpoint_path = \"mnt/data/reference-ray-domino-llama2/TorchTrainer_2024-02-16_14-59-37/TorchTrainer_0f011_00000_0_2024-02-16_14-59-37/checkpoint_000000\" # replace this with your checkpoint path\n",
    "\n",
    "# Load the tokenizer and model\n",
    "tokenizer = AutoTokenizer.from_pretrained(checkpoint_path, legacy=True, cache_dir=\"/mnt/nfs-llm-pvc\")\n",
    "model = AutoModelForCausalLM.from_pretrained(checkpoint_path)\n",
    "\n",
    "# Define your prompt\n",
    "prompt = \"What can I do in LA?\"\n",
    "\n",
    "# Generate text based on the prompt\n",
    "generated = model.generate(\n",
    "    tokenizer.encode(prompt, return_tensors=\"pt\"),\n",
    "    do_sample=True, \n",
    "    max_length=50,\n",
    "    num_return_sequences=1\n",
    ")\n",
    "\n",
    "# Decode and print the generated text\n",
    "generated_text = tokenizer.decode(generated[0], skip_special_tokens=True)\n",
    "print(\"Generated text:\", generated_text)"
   ]
  }
 ],
 "metadata": {
  "kernelspec": {
   "display_name": "Python 3 (ipykernel)",
   "language": "python",
   "name": "python3"
  },
  "language_info": {
   "codemirror_mode": {
    "name": "ipython",
    "version": 3
   },
   "file_extension": ".py",
   "mimetype": "text/x-python",
   "name": "python",
   "nbconvert_exporter": "python",
   "pygments_lexer": "ipython3",
   "version": "3.9.15"
  }
 },
 "nbformat": 4,
 "nbformat_minor": 5
}
